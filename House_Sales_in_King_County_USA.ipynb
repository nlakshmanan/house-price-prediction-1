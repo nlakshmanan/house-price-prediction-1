{
  "nbformat": 4,
  "nbformat_minor": 0,
  "metadata": {
    "colab": {
      "name": "House Sales in King County USA.ipynb",
      "provenance": [],
      "collapsed_sections": [],
      "mount_file_id": "14X1PWacSq4lAEpPcCrPh1GJ6CD6RcAWc",
      "authorship_tag": "ABX9TyPKOduwtr1MqOGmdAsUC4h2",
      "include_colab_link": true
    },
    "kernelspec": {
      "name": "python3",
      "display_name": "Python 3"
    }
  },
  "cells": [
    {
      "cell_type": "markdown",
      "metadata": {
        "id": "view-in-github",
        "colab_type": "text"
      },
      "source": [
        "<a href=\"https://colab.research.google.com/github/nlakshmanan/house-price-prediction-1/blob/master/House_Sales_in_King_County_USA.ipynb\" target=\"_parent\"><img src=\"https://colab.research.google.com/assets/colab-badge.svg\" alt=\"Open In Colab\"/></a>"
      ]
    },
    {
      "cell_type": "code",
      "metadata": {
        "id": "tovGlffyBGQL",
        "colab_type": "code",
        "colab": {}
      },
      "source": [
        "#data location - /content/drive/My Drive/ColabData/housesalesprediction/kc_house_data.csv"
      ],
      "execution_count": 0,
      "outputs": []
    }
  ]
}